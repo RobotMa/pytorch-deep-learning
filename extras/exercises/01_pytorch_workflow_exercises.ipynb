{
 "nbformat": 4,
 "nbformat_minor": 0,
 "metadata": {
  "colab": {
   "name": "01_pytorch_workflow_exercises.ipynb",
   "provenance": [],
   "collapsed_sections": [],
   "authorship_tag": "ABX9TyNYzatJtFkfUqqdiR6rYwVL",
   "include_colab_link": true
  },
  "kernelspec": {
   "name": "python3",
   "display_name": "Python 3"
  },
  "language_info": {
   "name": "python"
  },
  "accelerator": "GPU"
 },
 "cells": [
  {
   "cell_type": "markdown",
   "metadata": {
    "id": "view-in-github",
    "colab_type": "text"
   },
   "source": [
    "<a href=\"https://colab.research.google.com/github/mrdbourke/pytorch-deep-learning/blob/main/extras/exercises/01_pytorch_workflow_exercises.ipynb\" target=\"_parent\"><img src=\"https://colab.research.google.com/assets/colab-badge.svg\" alt=\"Open In Colab\"/></a>"
   ]
  },
  {
   "cell_type": "markdown",
   "source": [
    "# 01. PyTorch Workflow Exercise Template\n",
    "\n",
    "The following is a template for the PyTorch workflow exercises.\n",
    "\n",
    "It's only starter code and it's your job to fill in the blanks.\n",
    "\n",
    "Because of the flexibility of PyTorch, there may be more than one way to answer the question.\n",
    "\n",
    "Don't worry about trying to be *right* just try writing code that suffices the question.\n",
    "\n",
    "You can see one form of [solutions on GitHub](https://github.com/mrdbourke/pytorch-deep-learning/tree/main/extras/solutions) (but try the exercises below yourself first!)."
   ],
   "metadata": {
    "id": "N8LsPXZti9Sw"
   }
  },
  {
   "metadata": {
    "ExecuteTime": {
     "end_time": "2024-11-04T07:41:36.825252Z",
     "start_time": "2024-11-04T07:41:36.822682Z"
    }
   },
   "cell_type": "code",
   "source": [
    "# Import necessary libraries\n",
    "import torch\n",
    "import torch.nn as nn\n",
    "import torch.optim as optim\n",
    "import matplotlib.pyplot as plt\n",
    "from typing import Type\n",
    "\n",
    "from helper_functions import plot_predictions\n"
   ],
   "outputs": [],
   "execution_count": 33
  },
  {
   "metadata": {
    "ExecuteTime": {
     "end_time": "2024-11-04T07:41:36.870701Z",
     "start_time": "2024-11-04T07:41:36.868388Z"
    }
   },
   "cell_type": "code",
   "source": [
    "# Setup device-agnostic code\n",
    "device = \"cuda\" if torch.cuda.is_available() else \"cpu\"\n",
    "print(f\"Using {device}\")"
   ],
   "outputs": [
    {
     "name": "stdout",
     "output_type": "stream",
     "text": [
      "Using cuda\n"
     ]
    }
   ],
   "execution_count": 34
  },
  {
   "metadata": {},
   "cell_type": "markdown",
   "source": [
    "## 1. Create a straight line dataset using the linear regression formula (`weight * X + bias`).\n",
    "  * Set `weight=0.3` and `bias=0.9` there should be at least 100 datapoints total. \n",
    "  * Split the data into 80% training, 20% testing.\n",
    "  * Plot the training and testing data so it becomes visual.\n",
    "\n",
    "Your output of the below cell should look something like:\n",
    "```\n",
    "Number of X samples: 100\n",
    "Number of y samples: 100\n",
    "First 10 X & y samples:\n",
    "X: tensor([0.0000, 0.0100, 0.0200, 0.0300, 0.0400, 0.0500, 0.0600, 0.0700, 0.0800,\n",
    "        0.0900])\n",
    "y: tensor([0.9000, 0.9030, 0.9060, 0.9090, 0.9120, 0.9150, 0.9180, 0.9210, 0.9240,\n",
    "        0.9270])\n",
    "```\n",
    "\n",
    "Of course the numbers in `X` and `y` may be different but ideally they're created using the linear regression formula."
   ]
  },
  {
   "metadata": {
    "ExecuteTime": {
     "end_time": "2024-11-04T07:41:36.935366Z",
     "start_time": "2024-11-04T07:41:36.931587Z"
    }
   },
   "cell_type": "code",
   "source": [
    "# Create the data parameters\n",
    "weight = 0.3\n",
    "bias = 0.9\n",
    "total_points = 100\n",
    "\n",
    "# Make X and y using linear regression feature\n",
    "X = torch.linspace(0.0, 1.0, total_points)\n",
    "y = weight * X + bias\n",
    "\n",
    "print(f\"Number of X samples: {len(X)}\")\n",
    "print(f\"Number of y samples: {len(y)}\")\n",
    "print(f\"First 10 X & y samples:\\nX: {X[:10]}\\ny: {y[:10]}\")"
   ],
   "outputs": [
    {
     "name": "stdout",
     "output_type": "stream",
     "text": [
      "Number of X samples: 100\n",
      "Number of y samples: 100\n",
      "First 10 X & y samples:\n",
      "X: tensor([0.0000, 0.0101, 0.0202, 0.0303, 0.0404, 0.0505, 0.0606, 0.0707, 0.0808,\n",
      "        0.0909])\n",
      "y: tensor([0.9000, 0.9030, 0.9061, 0.9091, 0.9121, 0.9152, 0.9182, 0.9212, 0.9242,\n",
      "        0.9273])\n"
     ]
    }
   ],
   "execution_count": 35
  },
  {
   "metadata": {
    "ExecuteTime": {
     "end_time": "2024-11-04T07:41:36.984283Z",
     "start_time": "2024-11-04T07:41:36.981098Z"
    }
   },
   "cell_type": "code",
   "source": [
    "# Split the data into training and testing\n",
    "train_size = int(total_points * 0.8)\n",
    "X_train, X_test = X[:train_size], X[train_size:]\n",
    "y_train, y_test = y[:train_size], y[train_size:]\n",
    "len(X_train),len(y_train),len(X_test),len(y_test)\n"
   ],
   "outputs": [
    {
     "data": {
      "text/plain": [
       "(80, 80, 20, 20)"
      ]
     },
     "execution_count": 36,
     "metadata": {},
     "output_type": "execute_result"
    }
   ],
   "execution_count": 36
  },
  {
   "metadata": {
    "ExecuteTime": {
     "end_time": "2024-11-04T07:41:37.149508Z",
     "start_time": "2024-11-04T07:41:37.047198Z"
    }
   },
   "cell_type": "code",
   "source": [
    "# Plot the training and testing data \n",
    "def plot_predictions(train_data = X_train,\n",
    "                 train_labels = y_train,\n",
    "                 test_data = X_test,\n",
    "                 test_labels = y_test,\n",
    "                 predictions = None):\n",
    "  plt.figure(figsize = (10,7))\n",
    "  plt.scatter(train_data,train_labels,c = 'b',s = 4,label = \"Training data\")\n",
    "  plt.scatter(test_data,test_labels,c = 'g',s = 4,label = \"Test data\")\n",
    "\n",
    "  if predictions is not None:\n",
    "    plt.scatter(test_data,predictions,c = 'r',s = 4,label = \"Predictions\")\n",
    "  plt.legend(prop = {\"size\" : 14})\n",
    "plot_predictions()"
   ],
   "outputs": [
    {
     "data": {
      "text/plain": [
       "<Figure size 1000x700 with 1 Axes>"
      ],
      "image/png": "[encoded data removed]"
     },
     "metadata": {},
     "output_type": "display_data"
    }
   ],
   "execution_count": 37
  },
  {
   "metadata": {},
   "cell_type": "markdown",
   "source": ""
  },
  {
   "metadata": {},
   "cell_type": "markdown",
   "source": [
    "## 2. Build a PyTorch model by subclassing `nn.Module`. \n",
    "  * Inside should be a randomly initialized `nn.Parameter()` with `requires_grad=True`, one for `weights` and one for `bias`. \n",
    "  * Implement the `forward()` method to compute the linear regression function you used to create the dataset in 1. \n",
    "  * Once you've constructed the model, make an instance of it and check its `state_dict()`.\n",
    "  * **Note:** If you'd like to use `nn.Linear()` instead of `nn.Parameter()` you can."
   ]
  },
  {
   "metadata": {
    "ExecuteTime": {
     "end_time": "2024-11-04T07:41:37.170441Z",
     "start_time": "2024-11-04T07:41:37.168416Z"
    }
   },
   "cell_type": "code",
   "source": [
    "# Create PyTorch linear regression model by subclassing nn.Module\n",
    "class LinearRegression(nn.Module):\n",
    "    def __init__(self: Type[nn.Module]) -> None:\n",
    "        super().__init__()\n",
    "        self.linear = nn.Linear(in_features=1, out_features=1)\n",
    "        \n",
    "    def forward(self, x: torch.Tensor) -> torch.Tensor:\n",
    "        return self.linear(x)"
   ],
   "outputs": [],
   "execution_count": 38
  },
  {
   "metadata": {
    "ExecuteTime": {
     "end_time": "2024-11-04T07:41:37.241320Z",
     "start_time": "2024-11-04T07:41:37.236538Z"
    }
   },
   "cell_type": "code",
   "source": [
    "# Instantiate the model and put it to the target device\n",
    "torch.manual_seed(42)\n",
    "model = LinearRegression()\n",
    "model.to(device)\n",
    "\n",
    "model.state_dict(), list(model.parameters())"
   ],
   "outputs": [
    {
     "data": {
      "text/plain": [
       "(OrderedDict([('linear.weight', tensor([[0.7645]], device='cuda:0')),\n",
       "              ('linear.bias', tensor([0.8300], device='cuda:0'))]),\n",
       " [Parameter containing:\n",
       "  tensor([[0.7645]], device='cuda:0', requires_grad=True),\n",
       "  Parameter containing:\n",
       "  tensor([0.8300], device='cuda:0', requires_grad=True)])"
      ]
     },
     "execution_count": 39,
     "metadata": {},
     "output_type": "execute_result"
    }
   ],
   "execution_count": 39
  },
  {
   "metadata": {},
   "cell_type": "markdown",
   "source": [
    "## 3. Create a loss function and optimizer using `nn.L1Loss()` and `torch.optim.SGD(params, lr)` respectively. \n",
    "  * Set the learning rate of the optimizer to be 0.01 and the parameters to optimize should be the model parameters from the model you created in 2.\n",
    "  * Write a training loop to perform the appropriate training steps for 300 epochs.\n",
    "  * The training loop should test the model on the test dataset every 20 epochs."
   ]
  },
  {
   "metadata": {
    "ExecuteTime": {
     "end_time": "2024-11-04T07:41:37.287156Z",
     "start_time": "2024-11-04T07:41:37.284645Z"
    }
   },
   "cell_type": "code",
   "source": [
    "# Create the loss function and optimizer\n",
    "criterion = nn.L1Loss()\n",
    "optimizer = optim.SGD(model.parameters(), lr=0.01)"
   ],
   "outputs": [],
   "execution_count": 40
  },
  {
   "metadata": {
    "ExecuteTime": {
     "end_time": "2024-11-04T07:41:37.356413Z",
     "start_time": "2024-11-04T07:41:37.355183Z"
    }
   },
   "cell_type": "code",
   "source": "",
   "outputs": [],
   "execution_count": null
  },
  {
   "metadata": {
    "ExecuteTime": {
     "end_time": "2024-11-04T07:41:37.517441Z",
     "start_time": "2024-11-04T07:41:37.408612Z"
    }
   },
   "cell_type": "code",
   "source": [
    "# Training loop\n",
    "\n",
    "\n",
    "# Train model for 300 epochs\n",
    "epochs = 300\n",
    "\n",
    "# Send data to target device\n",
    "X_train_tensor: torch.Tensor = X_train.unsqueeze(1).float().to(device)\n",
    "y_train_tensor: torch.Tensor = y_train.unsqueeze(1).float().to(device)\n",
    "X_test_tensor: torch.Tensor = X_test.unsqueeze(1).float().to(device)\n",
    "y_test_tensor: torch.Tensor = y_test.unsqueeze(1).float().to(device)\n",
    "\n",
    "torch.manual_seed(42)\n",
    "\n",
    "for epoch in range(epochs):\n",
    "  ### Training\n",
    "\n",
    "  # Put model in train mode\n",
    "  model.train()\n",
    "\n",
    "  # 1. Forward pass\n",
    "  y_output = model(X_train_tensor)\n",
    "\n",
    "  # 2. Calculate loss\n",
    "  loss = criterion(y_output, y_train_tensor)\n",
    "  \n",
    "  # 3. Zero gradients\n",
    "  optimizer.zero_grad()\n",
    "\n",
    "  # 4. Backpropagation\n",
    "  loss.backward()\n",
    "  \n",
    "  # for param in model.parameters():\n",
    "  #   print(f\"Gradients for param: {param.grad}\")\n",
    "\n",
    "  # 5. Step the optimizer\n",
    "  optimizer.step()\n",
    "\n",
    "  ### Perform testing every 20 epochs\n",
    "  if epoch % 20 == 0:\n",
    "\n",
    "    model.eval()\n",
    "    # Put model in evaluation mode and setup inference context \n",
    "    with torch.inference_mode():\n",
    "        # 1. Forward pass\n",
    "        y_test_output = model(X_test_tensor)\n",
    "\n",
    "        # 2. Calculate test loss\n",
    "        test_loss: torch.Tensor = criterion(y_test_output, y_test_tensor)\n",
    "\n",
    "        # Print out what's happening\n",
    "        print(f\"Epoch: {epoch} | Train loss: {loss:.3f} | Test loss: {test_loss:.3f}\")\n",
    "        \n",
    "print(model.linear.weight, model.linear.bias)"
   ],
   "outputs": [
    {
     "name": "stdout",
     "output_type": "stream",
     "text": [
      "Epoch: 0 | Train loss: 0.129 | Test loss: 0.340\n",
      "Epoch: 20 | Train loss: 0.083 | Test loss: 0.220\n",
      "Epoch: 40 | Train loss: 0.073 | Test loss: 0.176\n",
      "Epoch: 60 | Train loss: 0.065 | Test loss: 0.154\n",
      "Epoch: 80 | Train loss: 0.058 | Test loss: 0.137\n",
      "Epoch: 100 | Train loss: 0.051 | Test loss: 0.121\n",
      "Epoch: 120 | Train loss: 0.045 | Test loss: 0.104\n",
      "Epoch: 140 | Train loss: 0.038 | Test loss: 0.088\n",
      "Epoch: 160 | Train loss: 0.031 | Test loss: 0.072\n",
      "Epoch: 180 | Train loss: 0.024 | Test loss: 0.055\n",
      "Epoch: 200 | Train loss: 0.017 | Test loss: 0.038\n",
      "Epoch: 220 | Train loss: 0.010 | Test loss: 0.022\n",
      "Epoch: 240 | Train loss: 0.003 | Test loss: 0.005\n",
      "Epoch: 260 | Train loss: 0.009 | Test loss: 0.003\n",
      "Epoch: 280 | Train loss: 0.009 | Test loss: 0.003\n",
      "Parameter containing:\n",
      "tensor([[0.2982]], device='cuda:0', requires_grad=True) Parameter containing:\n",
      "tensor([0.8913], device='cuda:0', requires_grad=True)\n"
     ]
    }
   ],
   "execution_count": 41
  },
  {
   "metadata": {},
   "cell_type": "markdown",
   "source": [
    "## 4. Make predictions with the trained model on the test data.\n",
    "  * Visualize these predictions against the original training and testing data (**note:** you may need to make sure the predictions are *not* on the GPU if you want to use non-CUDA-enabled libraries such as matplotlib to plot)."
   ]
  },
  {
   "metadata": {
    "ExecuteTime": {
     "end_time": "2024-11-04T07:41:37.542874Z",
     "start_time": "2024-11-04T07:41:37.541091Z"
    }
   },
   "cell_type": "code",
   "source": [
    "# Make predictions with the model\n",
    "model.eval()\n",
    "with torch.inference_mode():\n",
    "    y_test_pred = model(X_test_tensor)"
   ],
   "outputs": [],
   "execution_count": 42
  },
  {
   "metadata": {
    "ExecuteTime": {
     "end_time": "2024-11-04T07:41:37.703781Z",
     "start_time": "2024-11-04T07:41:37.589567Z"
    }
   },
   "cell_type": "code",
   "source": [
    "# Plot the predictions (these may need to be on a specific device)\n",
    "plot_predictions(predictions=y_test_pred.to(\"cpu\"))\n"
   ],
   "outputs": [
    {
     "data": {
      "text/plain": [
       "<Figure size 1000x700 with 1 Axes>"
      ],
      "image/png": "[encoded data removed]"
     },
     "metadata": {},
     "output_type": "display_data"
    }
   ],
   "execution_count": 43
  },
  {
   "metadata": {},
   "cell_type": "markdown",
   "source": [
    "## 5. Save your trained model's `state_dict()` to file.\n",
    "  * Create a new instance of your model class you made in 2. and load in the `state_dict()` you just saved to it.\n",
    "  * Perform predictions on your test data with the loaded model and confirm they match the original model predictions from 4."
   ]
  },
  {
   "metadata": {
    "ExecuteTime": {
     "end_time": "2024-11-04T07:41:37.725764Z",
     "start_time": "2024-11-04T07:41:37.723017Z"
    }
   },
   "cell_type": "code",
   "source": [
    "from pathlib import Path\n",
    "\n",
    "# 1. Create models directory \n",
    "MODEL_PATH = Path(\"models\")\n",
    "MODEL_PATH.mkdir(parents = True,exist_ok = True)\n",
    "\n",
    "# 2. Create model save path \n",
    "MODEL_NAME = \"01_pytorch_model\"\n",
    "MODEL_SAVE_PATH = MODEL_PATH / MODEL_NAME \n",
    "\n",
    "# 3. Save the model state dict\n",
    "print(f\"Saving model to {MODEL_SAVE_PATH}\")\n",
    "torch.save(obj = model.state_dict(),f = MODEL_SAVE_PATH)\n"
   ],
   "outputs": [
    {
     "name": "stdout",
     "output_type": "stream",
     "text": [
      "Saving model to models/01_pytorch_model\n"
     ]
    }
   ],
   "execution_count": 44
  },
  {
   "metadata": {
    "ExecuteTime": {
     "end_time": "2024-11-04T07:41:37.834333Z",
     "start_time": "2024-11-04T07:41:37.830629Z"
    }
   },
   "cell_type": "code",
   "source": [
    "# Create new instance of model and load saved state dict (make sure to put it on the target device)\n",
    "model_loaded = LinearRegression()\n",
    "model_loaded.load_state_dict(torch.load(f = MODEL_SAVE_PATH))\n",
    "model_loaded.to(device)\n"
   ],
   "outputs": [
    {
     "data": {
      "text/plain": [
       "LinearRegression(\n",
       "  (linear): Linear(in_features=1, out_features=1, bias=True)\n",
       ")"
      ]
     },
     "execution_count": 45,
     "metadata": {},
     "output_type": "execute_result"
    }
   ],
   "execution_count": 45
  },
  {
   "metadata": {
    "ExecuteTime": {
     "end_time": "2024-11-04T07:41:37.945822Z",
     "start_time": "2024-11-04T07:41:37.942193Z"
    }
   },
   "cell_type": "code",
   "source": [
    "# Make predictions with loaded model and compare them to the previous\n",
    "y_pred_new = model(X_test_tensor)\n",
    "y_pred_new == y_test_pred "
   ],
   "outputs": [
    {
     "data": {
      "text/plain": [
       "tensor([[True],\n",
       "        [True],\n",
       "        [True],\n",
       "        [True],\n",
       "        [True],\n",
       "        [True],\n",
       "        [True],\n",
       "        [True],\n",
       "        [True],\n",
       "        [True],\n",
       "        [True],\n",
       "        [True],\n",
       "        [True],\n",
       "        [True],\n",
       "        [True],\n",
       "        [True],\n",
       "        [True],\n",
       "        [True],\n",
       "        [True],\n",
       "        [True]], device='cuda:0')"
      ]
     },
     "execution_count": 46,
     "metadata": {},
     "output_type": "execute_result"
    }
   ],
   "execution_count": 46
  },
  {
   "metadata": {
    "ExecuteTime": {
     "end_time": "2024-11-04T07:41:38.015915Z",
     "start_time": "2024-11-04T07:41:38.014376Z"
    }
   },
   "cell_type": "code",
   "source": "",
   "outputs": [],
   "execution_count": null
  },
  {
   "metadata": {
    "ExecuteTime": {
     "end_time": "2024-11-04T07:41:38.057443Z",
     "start_time": "2024-11-04T07:41:38.055718Z"
    }
   },
   "cell_type": "code",
   "source": "",
   "outputs": [],
   "execution_count": null
  }
 ]
}
